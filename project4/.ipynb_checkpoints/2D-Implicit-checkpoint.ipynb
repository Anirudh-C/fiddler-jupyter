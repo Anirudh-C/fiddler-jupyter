{
 "cells": [
  {
   "cell_type": "code",
   "execution_count": 41,
   "metadata": {},
   "outputs": [],
   "source": [
    "%matplotlib inline\n",
    "import numpy as np\n",
    "import matplotlib\n",
    "import matplotlib.pyplot as plt\n",
    "from matplotlib import animation\n",
    "matplotlib.rc('animation', html='html5')\n",
    "from ipywidgets import interact, interactive, widgets\n",
    "from IPython.display import display, clear_output"
   ]
  },
  {
   "cell_type": "code",
   "execution_count": 46,
   "metadata": {},
   "outputs": [],
   "source": [
    "# Global Constants\n",
    "d = (0,1)\n",
    "N = 3\n",
    "h = (d[1] - d[0])/(N-1)"
   ]
  },
  {
   "cell_type": "code",
   "execution_count": 59,
   "metadata": {},
   "outputs": [],
   "source": [
    "def matrixvectorMul(lamb,U):\n",
    "    n = U.shape[0]\n",
    "    res = np.zeros((n,n))\n",
    "    for i in range(1,n-1):\n",
    "        for j in range(1,n-1):\n",
    "            res[i,j] = (1+4*lamb)*U[i,j] - lamb*(U[i-1,j] + U[i+1,j] + U[i,j-1] + U[i,j+1])\n",
    "    return res"
   ]
  },
  {
   "cell_type": "code",
   "execution_count": 78,
   "metadata": {},
   "outputs": [],
   "source": [
    "def matrixvectorSolve(f,lamb,U_prev):\n",
    "    TOL=1.0e-6\n",
    "    itmax = 2000\n",
    "    U_next = np.zeros((N,N)) \n",
    "    p = np.zeros((N,N))\n",
    "    res = np.array(U_prev + lamb*h*h*f)\n",
    "    \n",
    "    fnorm = np.linalg.norm(U_prev + lamb*h*h*f)\n",
    "    res_old, res_new = 0.0, 0.0\n",
    "    for it in range(itmax):\n",
    "        res_new = np.linalg.norm(res)\n",
    "        if(res_new<TOL*fnorm):\n",
    "            break\n",
    "        if(it==0):\n",
    "            beta = 0.0\n",
    "        else:\n",
    "            beta = res_new**2/res_old**2\n",
    "        p = res + beta*p\n",
    "        ap = matrixvectorMul(lamb,p)\n",
    "        alpha = res_new**2/np.sum(p*ap)\n",
    "        U_next += alpha*p\n",
    "        res -= alpha*ap\n",
    "        res_old = res_new\n",
    "    return U_next"
   ]
  },
  {
   "cell_type": "code",
   "execution_count": 81,
   "metadata": {},
   "outputs": [
    {
     "name": "stdout",
     "output_type": "stream",
     "text": [
      "[[-1.19462773e+111 -1.19462773e+111 -1.19462773e+111]\n",
      " [-1.19462773e+111 -4.70293750e+001 -1.19462773e+111]\n",
      " [-1.19462773e+111 -1.19462773e+111 -1.19462773e+111]]\n"
     ]
    },
    {
     "name": "stderr",
     "output_type": "stream",
     "text": [
      "/home/anirudh/.local/lib/python3.6/site-packages/ipykernel_launcher.py:20: RuntimeWarning: overflow encountered in multiply\n"
     ]
    }
   ],
   "source": [
    "f = np.ones((N,N))\n",
    "lamb = 0.25\n",
    "U_prev = np.ones((N,N))\n",
    "print(matrixvectorSolve(f,lamb,U_prev))"
   ]
  },
  {
   "cell_type": "code",
   "execution_count": 67,
   "metadata": {},
   "outputs": [],
   "source": [
    "\n",
    "\n",
    "def ax(h,u):\n",
    "    n = u.shape[0]\n",
    "    res = np.zeros((n,n))\n",
    "    for i in range(1,n-1):\n",
    "        for j in range(1,n-1):\n",
    "            uxx = (u[i-1,j]-2*u[i,j]+u[i+1,j])/h**2\n",
    "            uyy = (u[i,j-1]-2*u[i,j]+u[i,j+1])/h**2\n",
    "            res[i,j] = -(uxx + uyy)\n",
    "    return res\n",
    "\n"
   ]
  },
  {
   "cell_type": "code",
   "execution_count": 69,
   "metadata": {},
   "outputs": [
    {
     "name": "stdout",
     "output_type": "stream",
     "text": [
      "Number of iterations = 31\n"
     ]
    },
    {
     "data": {
      "image/png": "[encoded data removed]",
      "text/plain": [
       "<Figure size 432x288 with 2 Axes>"
      ]
     },
     "metadata": {},
     "output_type": "display_data"
    }
   ],
   "source": [
    "\n",
    "\n",
    "xmin,xmax = 0.0,1.0\n",
    "n = 21\n",
    "h = (xmax - xmin)/(n-1)\n",
    "x = np.linspace(xmin,xmax,n)\n",
    "X,Y = np.meshgrid(x,x)\n",
    "f    = np.ones((n,n))\n",
    "\n",
    "TOL   = 1.0e-6\n",
    "itmax = 2000\n",
    "\n",
    "u   = np.zeros((n,n))\n",
    "p   = np.zeros((n,n))\n",
    "res = np.array(f)\n",
    "\n",
    "# First and last grid point, solution is fixed to zero.\n",
    "# Hence we make residual zero, in which case solution\n",
    "# will not change at these points.\n",
    "res[0,:]   = 0.0\n",
    "res[n-1,:] = 0.0\n",
    "res[:,0]   = 0.0\n",
    "res[:,n-1] = 0.0\n",
    "\n",
    "f_norm = np.linalg.norm(f)\n",
    "res_old, res_new = 0.0, 0.0\n",
    "for it in range(itmax):\n",
    "    res_new = np.linalg.norm(res)\n",
    "    if res_new < TOL * f_norm:\n",
    "        break\n",
    "    if it==0:\n",
    "        beta = 0.0\n",
    "    else:\n",
    "        beta = res_new**2 / res_old**2\n",
    "    p = res + beta * p\n",
    "    ap= ax(h,p)\n",
    "    alpha = res_new**2 / np.sum(p*ap)\n",
    "    u += alpha * p\n",
    "    res -= alpha * ap\n",
    "    res_old = res_new\n",
    "    \n",
    "print(\"Number of iterations = %d\" % it)\n",
    "plt.contourf(X,Y,u,cmap=plt.cm.jet)\n",
    "plt.colorbar();\n",
    "\n"
   ]
  },
  {
   "cell_type": "code",
   "execution_count": null,
   "metadata": {},
   "outputs": [],
   "source": []
  }
 ],
 "metadata": {
  "kernelspec": {
   "display_name": "Python 3",
   "language": "python",
   "name": "python3"
  },
  "language_info": {
   "codemirror_mode": {
    "name": "ipython",
    "version": 3
   },
   "file_extension": ".py",
   "mimetype": "text/x-python",
   "name": "python",
   "nbconvert_exporter": "python",
   "pygments_lexer": "ipython3",
   "version": "3.6.5"
  }
 },
 "nbformat": 4,
 "nbformat_minor": 2
}
