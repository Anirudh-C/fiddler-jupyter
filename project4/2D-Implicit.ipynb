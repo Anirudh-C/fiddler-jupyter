{
 "cells": [
  {
   "cell_type": "code",
   "execution_count": 44,
   "metadata": {},
   "outputs": [],
   "source": [
    "%matplotlib inline\n",
    "import numpy as np\n",
    "import matplotlib.pyplot as plt\n",
    "from matplotlib import animation\n",
    "from IPython.display import HTML"
   ]
  },
  {
   "cell_type": "code",
   "execution_count": 2,
   "metadata": {},
   "outputs": [],
   "source": [
    "# Global Constants\n",
    "d = (0,1)\n",
    "N = 30\n",
    "h = (d[1] - d[0])/(N-1)\n",
    "x = np.linspace(d[0],d[1],N)\n",
    "y = np.linspace(d[0],d[1],N)\n",
    "X,Y = np.meshgrid(x,y)"
   ]
  },
  {
   "cell_type": "code",
   "execution_count": 33,
   "metadata": {},
   "outputs": [],
   "source": [
    "def matrixvectorMul(lamb,U):\n",
    "    res = np.zeros((N,N))\n",
    "    U_comp = np.zeros((N,N))\n",
    "    U_comp[1:-1,1:-1] = U\n",
    "    for i in range(N):\n",
    "        for j in range(N):\n",
    "            if(not((i==0 or i==N-1) or (j==0 or j==N-1))):\n",
    "                res[i,j] = (1+4*lamb)*U_comp[i,j] - lamb*(U_comp[i-1,j]+U_comp[i+1,j]+U_comp[i,j-1]+U_comp[i,j+1])\n",
    "    return res[1:-1,1:-1]"
   ]
  },
  {
   "cell_type": "code",
   "execution_count": 34,
   "metadata": {},
   "outputs": [],
   "source": [
    "def matrixvectorSolve(f,lamb,U_prev):\n",
    "    TOL=1.0e-6\n",
    "    itmax = 2000\n",
    "    U_next = np.zeros((N-2,N-2)) \n",
    "    p = np.zeros((N-2,N-2))\n",
    "    res = np.array(U_prev + lamb*h*h*f)\n",
    "    fnorm = np.linalg.norm(U_prev + lamb*h*h*f)\n",
    "    res_old, res_new = 0.0, 0.0\n",
    "    for it in range(itmax):\n",
    "        res_new = np.linalg.norm(res)\n",
    "        if(res_new<TOL*fnorm):\n",
    "            break\n",
    "        if(it==0):\n",
    "            beta = 0.0\n",
    "        else:\n",
    "            beta = res_new**2/res_old**2\n",
    "        p = res + beta*p\n",
    "        ap = matrixvectorMul(lamb,p)\n",
    "        alpha = res_new**2/np.sum(p*ap)\n",
    "        U_next += alpha*p\n",
    "        res -= alpha*ap\n",
    "        res_old = res_new\n",
    "    return U_next"
   ]
  },
  {
   "cell_type": "code",
   "execution_count": 35,
   "metadata": {},
   "outputs": [],
   "source": [
    "def updateImplicitSolution(f,lamb,n):\n",
    "    U_prev = np.zeros((N,N))\n",
    "    U_next = np.zeros((N,N))\n",
    "    for i in range(n):\n",
    "        U_prev[:,:] = U_next\n",
    "        U_next[1:-1,1:-1] = matrixvectorSolve(f[1:-1,1:-1],lamb,U_prev[1:-1,1:-1])\n",
    "    return U_next"
   ]
  },
  {
   "cell_type": "markdown",
   "metadata": {},
   "source": [
    "# Test Case 1\n",
    "$$f=1$$\n",
    "$$\\lambda=0.25$$"
   ]
  },
  {
   "cell_type": "code",
   "execution_count": 38,
   "metadata": {},
   "outputs": [],
   "source": [
    "f = np.ones((N,N))\n",
    "lamb = 0.25\n",
    "U = np.zeros((N,N))\n",
    "Lx = 1.0\n",
    "Ly = 1.0\n",
    "fig = plt.figure()\n",
    "ax = plt.axes(xlim=(0,Lx),yLim=(0,Ly))\n",
    "fr = range(0,800,8)\n",
    "def animate(i):\n",
    "    U = updateImplicitSolution(f,lamb,i)\n",
    "    cont = plt.contourf(X,Y,U,25,cmap=plt.cm.jet)\n",
    "    return cont\n",
    "anim = animation.FuncAnimation(fig,animate,frames=fr)\n",
    "anim.save(\"implicit_test1-1.mp4\",writer='ffmpeg')\n",
    "plt.close()"
   ]
  },
  {
   "cell_type": "code",
   "execution_count": 46,
   "metadata": {},
   "outputs": [
    {
     "data": {
      "text/html": [
       "\n",
       "<video width=\"320\" height=\"240\" controls>\n",
       "  <source src=\"implicit_test1-1.mp4\" type=\"video/mp4\">\n",
       "</video>\n"
      ],
      "text/plain": [
       "<IPython.core.display.HTML object>"
      ]
     },
     "execution_count": 46,
     "metadata": {},
     "output_type": "execute_result"
    }
   ],
   "source": [
    "HTML(\"\"\"\n",
    "<video width=\"320\" height=\"240\" controls>\n",
    "  <source src=\"implicit_test1-1.mp4\" type=\"video/mp4\">\n",
    "</video>\n",
    "\"\"\")"
   ]
  },
  {
   "cell_type": "markdown",
   "metadata": {},
   "source": [
    "$$f=0.3$$"
   ]
  },
  {
   "cell_type": "code",
   "execution_count": 39,
   "metadata": {},
   "outputs": [],
   "source": [
    "f = np.ones((N,N))\n",
    "lamb = 0.3\n",
    "U = np.zeros((N,N))\n",
    "Lx = 1.0\n",
    "Ly = 1.0\n",
    "fig = plt.figure()\n",
    "ax = plt.axes(xlim=(0,Lx),yLim=(0,Ly))\n",
    "fr = range(0,800,8)\n",
    "def animate(i):\n",
    "    U = updateImplicitSolution(f,lamb,i)\n",
    "    cont = plt.contourf(X,Y,U,25,cmap=plt.cm.jet)\n",
    "    return cont\n",
    "anim = animation.FuncAnimation(fig,animate,frames=fr)\n",
    "anim.save(\"implicit_test1-2.mp4\",writer='ffmpeg')\n",
    "plt.close()"
   ]
  },
  {
   "cell_type": "code",
   "execution_count": 47,
   "metadata": {},
   "outputs": [
    {
     "data": {
      "text/html": [
       "\n",
       "<video width=\"320\" height=\"240\" controls>\n",
       "  <source src=\"implicit_test1-2.mp4\" type=\"video/mp4\">\n",
       "</video>\n"
      ],
      "text/plain": [
       "<IPython.core.display.HTML object>"
      ]
     },
     "execution_count": 47,
     "metadata": {},
     "output_type": "execute_result"
    }
   ],
   "source": [
    "HTML(\"\"\"\n",
    "<video width=\"320\" height=\"240\" controls>\n",
    "  <source src=\"implicit_test1-2.mp4\" type=\"video/mp4\">\n",
    "</video>\n",
    "\"\"\")"
   ]
  },
  {
   "cell_type": "markdown",
   "metadata": {},
   "source": [
    "# Test Case 2\n",
    "$$f=sin(2 \\pi x)$$\n",
    "$$\\lambda=0.25$$"
   ]
  },
  {
   "cell_type": "code",
   "execution_count": 41,
   "metadata": {},
   "outputs": [],
   "source": [
    "f = np.ones((N,N))\n",
    "lamb = 0.25\n",
    "for i in range(N):\n",
    "    for j in range(N):\n",
    "        f[i,j] = np.sin(2*np.pi*x[i]) + np.sin(2*np.pi*y[j])\n",
    "U = np.zeros((N,N))\n",
    "Lx = 1.0\n",
    "Ly = 1.0\n",
    "fig = plt.figure()\n",
    "ax = plt.axes(xlim=(0,Lx),yLim=(0,Ly))\n",
    "fr = range(0,800,8)\n",
    "def animate(i):\n",
    "    U = updateImplicitSolution(f,lamb,i)\n",
    "    cont = plt.contourf(X,Y,U,25,cmap=plt.cm.jet)\n",
    "    return cont\n",
    "anim = animation.FuncAnimation(fig,animate,frames=fr)\n",
    "anim.save(\"implicit_test2-1.mp4\",writer='ffmpeg')\n",
    "plt.close()"
   ]
  },
  {
   "cell_type": "code",
   "execution_count": 48,
   "metadata": {},
   "outputs": [
    {
     "data": {
      "text/html": [
       "\n",
       "<video width=\"320\" height=\"240\" controls>\n",
       "  <source src=\"implicit_test2-1.mp4\" type=\"video/mp4\">\n",
       "</video>\n"
      ],
      "text/plain": [
       "<IPython.core.display.HTML object>"
      ]
     },
     "execution_count": 48,
     "metadata": {},
     "output_type": "execute_result"
    }
   ],
   "source": [
    "HTML(\"\"\"\n",
    "<video width=\"320\" height=\"240\" controls>\n",
    "  <source src=\"implicit_test2-1.mp4\" type=\"video/mp4\">\n",
    "</video>\n",
    "\"\"\")"
   ]
  },
  {
   "cell_type": "markdown",
   "metadata": {},
   "source": [
    "$$\\lambda=0.3$$"
   ]
  },
  {
   "cell_type": "code",
   "execution_count": 42,
   "metadata": {},
   "outputs": [],
   "source": [
    "f = np.ones((N,N))\n",
    "lamb = 0.3\n",
    "for i in range(N):\n",
    "    for j in range(N):\n",
    "        f[i,j] = np.sin(2*np.pi*x[i]) + np.sin(2*np.pi*y[j])\n",
    "U = np.zeros((N,N))\n",
    "Lx = 1.0\n",
    "Ly = 1.0\n",
    "fig = plt.figure()\n",
    "ax = plt.axes(xlim=(0,Lx),yLim=(0,Ly))\n",
    "fr = range(0,800,8)\n",
    "def animate(i):\n",
    "    U = updateImplicitSolution(f,lamb,i)\n",
    "    cont = plt.contourf(X,Y,U,25,cmap=plt.cm.jet)\n",
    "    return cont\n",
    "anim = animation.FuncAnimation(fig,animate,frames=fr)\n",
    "anim.save(\"implicit_test2-2.mp4\",writer='ffmpeg')\n",
    "plt.close()"
   ]
  },
  {
   "cell_type": "code",
   "execution_count": 49,
   "metadata": {},
   "outputs": [
    {
     "data": {
      "text/html": [
       "\n",
       "<video width=\"320\" height=\"240\" controls>\n",
       "  <source src=\"implicit_test2-2.mp4\" type=\"video/mp4\">\n",
       "</video>\n"
      ],
      "text/plain": [
       "<IPython.core.display.HTML object>"
      ]
     },
     "execution_count": 49,
     "metadata": {},
     "output_type": "execute_result"
    }
   ],
   "source": [
    "HTML(\"\"\"\n",
    "<video width=\"320\" height=\"240\" controls>\n",
    "  <source src=\"implicit_test2-2.mp4\" type=\"video/mp4\">\n",
    "</video>\n",
    "\"\"\")"
   ]
  }
 ],
 "metadata": {
  "kernelspec": {
   "display_name": "Python 3",
   "language": "python",
   "name": "python3"
  },
  "language_info": {
   "codemirror_mode": {
    "name": "ipython",
    "version": 3
   },
   "file_extension": ".py",
   "mimetype": "text/x-python",
   "name": "python",
   "nbconvert_exporter": "python",
   "pygments_lexer": "ipython3",
   "version": "3.6.5"
  }
 },
 "nbformat": 4,
 "nbformat_minor": 2
}
