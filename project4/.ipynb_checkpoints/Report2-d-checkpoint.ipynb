{
 "cells": [
  {
   "cell_type": "markdown",
   "metadata": {},
   "source": [
    "# 2-D Heat Equation"
   ]
  },
  {
   "cell_type": "markdown",
   "metadata": {},
   "source": [
    "## Description"
   ]
  },
  {
   "cell_type": "markdown",
   "metadata": {},
   "source": [
    "Consider the equation\n",
    "$$ \\frac{\\partial u}{\\partial t} = \\underbrace{\\left(\\frac{\\partial^{2} u}{\\partial x^{2}} + \\frac{\\partial^{2} u}{\\partial y^{2}}\\right)}_{ \\nabla^{2} u}+ f$$\n",
    "Defined on an interval $[a,b]^{2}$ for a function $u(x,y,t)$  with the initial value given as\n",
    "$$u(x,y,0) = g(x,y)$$\n",
    "And the boundary value\n",
    "$$ u = 0 \\qquad on \\qquad \\partial \\Omega $$\n",
    "\n",
    "To solve this equation we need to discretize both time and space.\n",
    "\n",
    "Define\n",
    "$$\\Delta x = \\Delta y = h = \\frac{b-a}{N-1}$$\n",
    "where $N$ is the number of grid points, and hence,\n",
    "$$x_{i} = a + i h$$\n",
    "$$y_{j} = a + j h$$\n",
    "For time,\n",
    "$$t_{n} = n \\Delta t$$\n",
    "Where, $\\Delta t$ is the interval of time.\n",
    "\n",
    "Let $U_{i}^{n}$ approximate the solution so that\n",
    "$$U_{i,j}^{n} \\approx u(x_{i},y_{j},t_{n})$$\n",
    "     \n",
    "For the space discretization we use the central difference scheme\n",
    "$$\\frac{\\partial^{2}}{\\partial x^{2}} u(x,y,t_{n}) \\bigg|_{x=x_{i}} \\Rightarrow \\frac{U_{i-1,j}^{n} - 2 U_{i,j}^{n} + U_{i+1,j}^{n}}{h^{2}}$$\n",
    "$$\\frac{\\partial^{2}}{\\partial y^{2}} u(x,y,t_{n}) \\bigg|_{y=y_{j}} \\Rightarrow \\frac{U_{i,j-1}^{n} - 2 U_{i,j}^{n} + U_{i,j+1}^{n}}{h^{2}}$$\n",
    "$$\\nabla^{2} u \\big|_{(x,y)= (x_i,y_j)} \\Rightarrow \\frac{U_{i-1,j}^{n} + U_{i+1,j}^{n} + U_{i,j-1}^{n} + U_{i,j+1}^{n} - 4 U_{i,j}^{n}}{h^{2}}$$\n",
    "- Explicit Scheme\n",
    "\n",
    "    With explicit timestepping the time derivative is approximated as\n",
    "    $$\\frac{\\partial}{\\partial t} u(x_{i},y_{j},t) \\bigg|_{t=t_{n}} \\Rightarrow \\frac{U_{i,j}^{n+1} - U_{i,j}^{n}}{\\Delta t}$$\n",
    "    Taking this in with the central difference for space we get\n",
    "    $$\\frac{U_{i,j}^{n+1} - U_{i,j}^{n}}{\\Delta t}= \\frac{U_{i-1,j}^{n} + U_{i+1,j}^{n} + U_{i,j-1}^{n} + U_{i,j+1}^{n} - 4 U_{i,j}^{n}}{h^{2}} + f_{i,j}^{n}$$\n",
    "    $$U_{i,j}^{n+1} =U_{i,j}^{n}+\\frac{\\Delta t}{h^{2}} \\left( U_{i-1,j}^{n} + U_{i+1,j}^{n} + U_{i,j-1}^{n} + U_{i,j+1}^{n} - 4 U_{i,j}^{n} \\right)+ \\Delta t f_{i,j}^{n}$$\n",
    "    We define,\n",
    "    $$\\lambda = \\frac{\\Delta t}{h^{2}}$$\n",
    "    Thus,\n",
    "    $$\\Delta t = \\lambda h^{2}$$ \n",
    "    $$U_{i,j}^{n+1} =U_{i,j}^{n}+\\lambda \\left( U_{i-1,j}^{n} + U_{i+1,j}^{n} + U_{i,j-1}^{n} + U_{i,j+1}^{n} - 4 U_{i,j}^{n} \\right)+ \\lambda h^{2} f_{i,j}^{n}$$\n",
    "    Where \n",
    "    $$i,j = 1,\\ldots, N-2 ,\\qquad n = 0,1,\\ldots$$\n",
    "- Implicit Scheme\n",
    "\n",
    "    With implicit timestepping the time derivative is approximated as\n",
    "    $$\\frac{\\partial}{\\partial t} u(x_{i},y_{j}, t) \\bigg|_{t=t_{n}} \\Rightarrow \\frac{U_{i,j}^{n} - U_{i,j}^{n-1}}{\\Delta t}$$\n",
    "    Thus,\n",
    "    $$\\frac{\\partial}{\\partial t} u(x_{i},y_{j}, t) \\bigg|_{t=t_{n+1}} \\Rightarrow \\frac{U_{i,j}^{n+1} - U_{i,j}^{n}}{\\Delta t}$$\n",
    "    Taking this in with the central difference for space we get\n",
    "     $$\\frac{U_{i,j}^{n+1} - U_{i,j}^{n}}{\\Delta t}= \\frac{U_{i-1,j}^{n+1} + U_{i+1,j}^{n+1} + U_{i,j-1}^{n+1} + U_{i,j+1}^{n+1} - 4 U_{i,j}^{n+1}}{h^{2}} + f_{i,j}^{n+1}$$\n",
    "     $$U_{i,j}^{n+1} - \\lambda \\left(U_{i-1,j}^{n+1} + U_{i+1,j}^{n+1} + U_{i,j-1}^{n+1} + U_{i,j+1}^{n+1} - 4 U_{i,j}^{n+1} \\right) = U_{i,j}^{n} + \\lambda h^{2} f_{i,j}^{n+1}$$\n",
    "     Where \n",
    "    $$i,j = 1,\\ldots, N-2 ,\\qquad n = 0,1,\\ldots$$"
   ]
  },
  {
   "cell_type": "markdown",
   "metadata": {},
   "source": [
    "## Implementation\n",
    "$$g=0$$\n",
    "$$\\alpha = 0$$\n",
    "$$\\beta = 0$$\n",
    "$$f = f(x)$$\n",
    "[Explicit](2D-Explicit.ipynb)\n",
    "\n",
    "[Implicit](2D-Implicit.ipynb)"
   ]
  },
  {
   "cell_type": "markdown",
   "metadata": {},
   "source": [
    "## Comparison\n",
    "In the explicit scheme the value of $\\lambda$ is bounded above by $0.25$ but the implicit scheme has no bounds on $\\lambda$"
   ]
  }
 ],
 "metadata": {
  "kernelspec": {
   "display_name": "Python 3",
   "language": "python",
   "name": "python3"
  },
  "language_info": {
   "codemirror_mode": {
    "name": "ipython",
    "version": 3
   },
   "file_extension": ".py",
   "mimetype": "text/x-python",
   "name": "python",
   "nbconvert_exporter": "python",
   "pygments_lexer": "ipython3",
   "version": "3.6.5"
  }
 },
 "nbformat": 4,
 "nbformat_minor": 2
}
