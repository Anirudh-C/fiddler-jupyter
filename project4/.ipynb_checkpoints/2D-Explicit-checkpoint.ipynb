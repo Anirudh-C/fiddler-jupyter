{
 "cells": [
  {
   "cell_type": "code",
   "execution_count": 56,
   "metadata": {},
   "outputs": [],
   "source": [
    "import numpy as np\n",
    "from IPython.display import HTML,Image\n",
    "import matplotlib.pyplot as plt\n",
    "import matplotlib.animation as animation"
   ]
  },
  {
   "cell_type": "code",
   "execution_count": 57,
   "metadata": {},
   "outputs": [],
   "source": [
    "# Global constants\n",
    "d = (0,1)\n",
    "N = 30\n",
    "h = (d[1] - d[0])/(N-1)\n",
    "x = np.linspace(d[0],d[1],N)\n",
    "y = np.linspace(d[0],d[1],N)\n",
    "X,Y = np.meshgrid(x,y)"
   ]
  },
  {
   "cell_type": "code",
   "execution_count": 58,
   "metadata": {},
   "outputs": [],
   "source": [
    "def updateSolution(f,lamb,n):\n",
    "    \"\"\"\n",
    "    This method takes f, lambda and number of time\n",
    "    intervals n to return the state of the solution after n time intervals\n",
    "    \"\"\"\n",
    "    U_prev = np.zeros((N,N))\n",
    "    U_next = np.zeros((N,N))\n",
    "    for k in range(n):\n",
    "        U_prev[:,:] = U_next\n",
    "        for i in range(1,N-1):\n",
    "            for j in range(1,N-1):\n",
    "                U_next[i,j] = (1 - 4*lamb)*U_prev[i,j] + lamb*U_prev[i-1,j] + lamb*U_prev[i+1,j] + lamb*U_prev[i,j-1] + lamb*U_prev[i,j+1] + lamb*h*h*f[i,j]\n",
    "    return U_next"
   ]
  },
  {
   "cell_type": "markdown",
   "metadata": {},
   "source": [
    "# Test Case 1\n",
    "$$f=1$$\n",
    "$$\\lambda=0.25$$"
   ]
  },
  {
   "cell_type": "code",
   "execution_count": 75,
   "metadata": {},
   "outputs": [],
   "source": [
    "f = np.ones((N,N))\n",
    "lamb = 0.25\n",
    "Lx = 1.0\n",
    "Ly = 1.0\n",
    "fig = plt.figure()\n",
    "ax = plt.axes(xlim=(0,Lx),yLim=(0,Ly))\n",
    "fr = range(0,1300,8)\n",
    "def animate(i):\n",
    "    U = updateSolution(f,lamb,i)\n",
    "    cont = plt.contourf(X,Y,U,25,cmap=plt.cm.jet)\n",
    "    return cont\n",
    "anim = animation.FuncAnimation(fig,animate,frames=fr)\n",
    "anim.save(\"test1-1.mp4\",writer='ffmpeg')\n",
    "plt.close()"
   ]
  },
  {
   "cell_type": "code",
   "execution_count": 77,
   "metadata": {},
   "outputs": [
    {
     "data": {
      "text/html": [
       "\n",
       "<video width=\"320\" height=\"240\" controls>\n",
       "  <source src=\"test1-1.mp4\" type=\"video/mp4\">\n",
       "</video>\n"
      ],
      "text/plain": [
       "<IPython.core.display.HTML object>"
      ]
     },
     "execution_count": 77,
     "metadata": {},
     "output_type": "execute_result"
    }
   ],
   "source": [
    "HTML(\"\"\"\n",
    "<video width=\"320\" height=\"240\" controls>\n",
    "  <source src=\"test1-1.mp4\" type=\"video/mp4\">\n",
    "</video>\n",
    "\"\"\")"
   ]
  },
  {
   "cell_type": "markdown",
   "metadata": {},
   "source": [
    "$$\\lambda = 0.3$$"
   ]
  },
  {
   "cell_type": "code",
   "execution_count": 76,
   "metadata": {},
   "outputs": [],
   "source": [
    "f = np.ones((N,N))\n",
    "lamb = 0.3\n",
    "Lx = 1.0\n",
    "Ly = 1.0\n",
    "fig = plt.figure()\n",
    "ax = plt.axes(xlim=(0,Lx),yLim=(0,Ly))\n",
    "fr = range(0,1300,8)\n",
    "def animate(i):\n",
    "    U = updateSolution(f,lamb,i)\n",
    "    cont = plt.contourf(X,Y,U,25,cmap=plt.cm.jet)\n",
    "    return cont\n",
    "anim = animation.FuncAnimation(fig,animate,frames=fr)\n",
    "anim.save(\"test1-2.mp4\",writer='ffmpeg')\n",
    "plt.close()"
   ]
  },
  {
   "cell_type": "code",
   "execution_count": 79,
   "metadata": {},
   "outputs": [
    {
     "data": {
      "text/html": [
       "\n",
       "<video width=\"320\" height=\"240\" controls>\n",
       "  <source src=\"test1-2.mp4\" type=\"video/mp4\">\n",
       "</video>\n"
      ],
      "text/plain": [
       "<IPython.core.display.HTML object>"
      ]
     },
     "execution_count": 79,
     "metadata": {},
     "output_type": "execute_result"
    }
   ],
   "source": [
    "HTML(\"\"\"\n",
    "<video width=\"320\" height=\"240\" controls>\n",
    "  <source src=\"test1-2.mp4\" type=\"video/mp4\">\n",
    "</video>\n",
    "\"\"\")"
   ]
  },
  {
   "cell_type": "markdown",
   "metadata": {},
   "source": [
    "# Test Case 2\n",
    "$$f= sin(2 \\pi x)$$\n",
    "$$\\lambda = 0.25$$"
   ]
  },
  {
   "cell_type": "code",
   "execution_count": 73,
   "metadata": {},
   "outputs": [],
   "source": [
    "f = np.ones((N,N))\n",
    "for i in range(N):\n",
    "    for j in range(N):\n",
    "        f[i,j] = np.sin(2*np.pi*x[i]) + np.sin(2*np.pi*y[j])\n",
    "lamb = 0.25\n",
    "Lx = 1.0\n",
    "Ly = 1.0\n",
    "fig = plt.figure()\n",
    "ax = plt.axes(xlim=(0,Lx),yLim=(0,Ly))\n",
    "fr = range(0,1300,8)\n",
    "def animate(i):\n",
    "    U = updateSolution(f,lamb,i)\n",
    "    cont = plt.contourf(X,Y,U,25,cmap=plt.cm.jet)\n",
    "    return cont\n",
    "anim = animation.FuncAnimation(fig,animate,frames=fr)\n",
    "anim.save(\"test2-1.mp4\",writer='ffmpeg')\n",
    "plt.close()"
   ]
  },
  {
   "cell_type": "code",
   "execution_count": 80,
   "metadata": {},
   "outputs": [
    {
     "data": {
      "text/html": [
       "\n",
       "<video width=\"320\" height=\"240\" controls>\n",
       "  <source src=\"test2-1.mp4\" type=\"video/mp4\">\n",
       "</video>\n"
      ],
      "text/plain": [
       "<IPython.core.display.HTML object>"
      ]
     },
     "execution_count": 80,
     "metadata": {},
     "output_type": "execute_result"
    }
   ],
   "source": [
    "HTML(\"\"\"\n",
    "<video width=\"320\" height=\"240\" controls>\n",
    "  <source src=\"test2-1.mp4\" type=\"video/mp4\">\n",
    "</video>\n",
    "\"\"\")"
   ]
  },
  {
   "cell_type": "markdown",
   "metadata": {},
   "source": [
    "$$\\lambda=0.3$$"
   ]
  },
  {
   "cell_type": "code",
   "execution_count": 74,
   "metadata": {},
   "outputs": [],
   "source": [
    "f = np.ones((N,N))\n",
    "lamb = 0.3\n",
    "Lx = 1.0\n",
    "Ly = 1.0\n",
    "fig = plt.figure()\n",
    "ax = plt.axes(xlim=(0,Lx),yLim=(0,Ly))\n",
    "fr = range(0,1300,8)\n",
    "def animate(i):\n",
    "    U = updateSolution(f,lamb,i)\n",
    "    cont = plt.contourf(X,Y,U,25,cmap=plt.cm.jet)\n",
    "    return cont\n",
    "anim = animation.FuncAnimation(fig,animate,frames=fr)\n",
    "anim.save(\"test2-2.mp4\",writer='ffmpeg')\n",
    "plt.close()"
   ]
  },
  {
   "cell_type": "code",
   "execution_count": 81,
   "metadata": {},
   "outputs": [
    {
     "data": {
      "text/html": [
       "\n",
       "<video width=\"320\" height=\"240\" controls>\n",
       "  <source src=\"test2-2.mp4\" type=\"video/mp4\">\n",
       "</video>\n"
      ],
      "text/plain": [
       "<IPython.core.display.HTML object>"
      ]
     },
     "execution_count": 81,
     "metadata": {},
     "output_type": "execute_result"
    }
   ],
   "source": [
    "HTML(\"\"\"\n",
    "<video width=\"320\" height=\"240\" controls>\n",
    "  <source src=\"test2-2.mp4\" type=\"video/mp4\">\n",
    "</video>\n",
    "\"\"\")"
   ]
  }
 ],
 "metadata": {
  "kernelspec": {
   "display_name": "Python 3",
   "language": "python",
   "name": "python3"
  },
  "language_info": {
   "codemirror_mode": {
    "name": "ipython",
    "version": 3
   },
   "file_extension": ".py",
   "mimetype": "text/x-python",
   "name": "python",
   "nbconvert_exporter": "python",
   "pygments_lexer": "ipython3",
   "version": "3.6.5"
  }
 },
 "nbformat": 4,
 "nbformat_minor": 2
}
