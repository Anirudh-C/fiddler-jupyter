{
 "cells": [
  {
   "cell_type": "markdown",
   "metadata": {},
   "source": [
    "# Crank Nicolson Scheme"
   ]
  },
  {
   "cell_type": "markdown",
   "metadata": {},
   "source": [
    "This scheme uses a central difference for the time discretization to improve the truncation error"
   ]
  },
  {
   "cell_type": "markdown",
   "metadata": {},
   "source": [
    "## 1-D Heat Equation"
   ]
  },
  {
   "cell_type": "markdown",
   "metadata": {},
   "source": [
    "Consider the equation\n",
    "$$u_t = u_{xx} + f$$\n",
    "Defined on an interval $[a,b]$, such that\n",
    "$$u=0 \\qquad at \\qquad t = 0$$\n",
    "$$u=0 \\qquad on \\qquad \\Omega$$\n",
    "Define\n",
    "$$\\Delta x = \\frac{b-a}{N-1}$$\n",
    "where $N$ is the number of grid points and hence,\n",
    "$$x_i = a + i \\Delta x$$\n",
    "For time,\n",
    "$$t_n = n \\Delta t$$\n",
    "where,$\\Delta t$ is the interval of time\n",
    "Let $U_i^n$ be the approximate solution to the above equation\n",
    "$$U_i^{n} \\approx u(x_i,t_n)$$\n",
    "For the time discretization\n",
    "$$\\frac{\\partial}{\\partial t} u(x_i,t) \\bigg|_{t=t_{n+\\frac{1}{2}}} \\Rightarrow \\frac{U_{i}^{n+1} - U_{i}^{n}}{\\Delta t}$$\n",
    "For the space discretization\n",
    "$$\\frac{\\partial^{2}}{\\partial x^{2}} u(x, t_{n+1/2}) \\bigg|_{x=x_{i}} \\Rightarrow \\frac{U_{i-1}^{n+1/2} - 2 U_{i}^{n+1/2} + U_{i+1}^{n+1/2}}{\\Delta x^{2}}$$\n",
    "We approximate,\n",
    "$$U_{i}^{n+1/2} = \\frac{U_i^{n+1} + U_{i}^{n}}{2}$$\n",
    "Thus we get,\n",
    "$$\\frac{U_{i}^{n+1} - U_{i}^{n}}{\\Delta t} = \\frac{U_{i-1}^{n+1/2} - 2 U_{i}^{n+1/2} + U_{i+1}^{n+1/2}}{\\Delta x^{2}} + f_{i}^{n}$$\n",
    "Substituting the approximation we get\n",
    "$$\\frac{U_{i}^{n+1} - U_{i}^{n}}{\\Delta t} = \\frac{1}{2} \\frac{U_{i-1}^{n+1} - 2 U_{i}^{n+1} + U_{i+1}^{n+1}}{\\Delta x^{2}} + \\frac{1}{2} \\frac{U_{i-1}^{n} - 2 U_{i}^{n} + U_{i+1}^{n}}{\\Delta x^{2}} + f_i^{n}$$\n",
    "Define,\n",
    "$$\\lambda = \\frac{\\Delta t}{\\Delta x^{2}}$$\n",
    "Rearranging we get,\n",
    "$$U_{i}^{n+1} - \\frac{\\lambda}{2} \\left( U_{i-1}^{n+1} - 2 U_{i}^{n+1} + U_{i+1}^{n+1} \\right) = U_{i}^{n} + \\frac{\\lambda}{2} \\left( U_{i-1}^{n} - 2 U_{i}^{n} + U_{i+1}^{n} \\right) + \\lambda \\Delta x^2 f_{i}^{n}$$\n",
    "Where,\n",
    "$$i = 1,2,\\ldots,N-2 \\qquad n = 0,1,\\ldots$$\n",
    "In vector form,\n",
    "$$\\left( I-\\frac{\\lambda}{2} K \\right) U^{n+1} = \\left( I + \\frac{\\lambda}{2} K \\right) U^{n} + \\lambda \\Delta x^{2} f^{n}$$\n",
    "where,\n",
    "$$K= \\begin{pmatrix} -2&1\\\\ 1&-2&1\\\\ &\\ddots&\\ddots&\\ddots \\end{pmatrix} ,\\qquad U^n= \\begin{pmatrix} U^n_1\\\\ \\vdots \\\\ U^n_{N-2} \\end{pmatrix}$$"
   ]
  },
  {
   "cell_type": "markdown",
   "metadata": {},
   "source": [
    "### Implementation\n",
    "[Implementation](cn1d.ipynb)"
   ]
  },
  {
   "cell_type": "markdown",
   "metadata": {},
   "source": [
    "### Stability Analysis\n",
    "The solution is of the form,\n",
    "$$U_{i}^{n} = \\beta^{n} e^{i l x_i}$$\n",
    "We write the scheme as\n",
    "$$- \\frac{\\lambda}{2} U_{i-1}^{n+1} + \\left(1+\\lambda\\right)U_{i}^{n+1} - \\frac{\\lambda}{2} U_{i-1}^{n+1} = \\frac{\\lambda}{2} U_{i-1}^{n} + \\left(1-\\lambda\\right)U_{i}^{n} + \\frac{\\lambda}{2} U_{i-1}^{n}$$\n",
    "Substituting the solution in the scheme we get,\n",
    "$$- \\frac{\\lambda}{2} \\beta^{n+1} e^{i l x_{i-1}} + \\left(1+\\lambda\\right)\\beta^{n+1} e^{i l x_i} - \\frac{\\lambda}{2} \\beta^{n+1} e^{i l x_{i+1}} = \\frac{\\lambda}{2} \\beta^{n} e^{i l x_{i-1}} + \\left(1-\\lambda\\right)\\beta^{n} e^{i l x_i} + \\frac{\\lambda}{2} \\beta^{n} e^{i l x_{i+1}}$$\n",
    "$$\\beta \\left[ 1 + \\lambda \\left( 1 - \\frac{e^{- i l \\Delta x} + e^{i l \\Delta x}}{2} \\right) \\right] = 1 - \\lambda \\left( 1 - \\frac{e^{- i l \\Delta x} + e^{i l \\Delta x}}{2} \\right)$$\n",
    "$$\\beta \\left[ 1 + 2 \\lambda \\sin^{2} (l \\Delta x/2) \\right] = 1 - 2 \\lambda \\sin^{2} (l \\Delta x/2)$$\n",
    "$$\\beta = \\frac{1 - 2 \\lambda \\sin^{2} (l \\Delta x/2)}{1 + 2 \\lambda \\sin^{2} (l \\Delta x/2)} < 1$$\n",
    "Hence, the solution is unconditionally stable, but is second degree accurate in time"
   ]
  },
  {
   "cell_type": "markdown",
   "metadata": {},
   "source": [
    "## 2-D Heat Equation"
   ]
  },
  {
   "cell_type": "markdown",
   "metadata": {},
   "source": [
    "Consider the equation\n",
    "$$ \\frac{\\partial u}{\\partial t} = \\underbrace{\\left(\\frac{\\partial^{2} u}{\\partial x^{2}} + \\frac{\\partial^{2} u}{\\partial y^{2}}\\right)}_{ \\nabla^{2} u}+ f$$\n",
    "Define\n",
    "$$\\Delta x = \\Delta y = h = \\frac{b-a}{N-1}$$\n",
    "where $N$ is the number of grid points, and hence,\n",
    "$$x_{i} = a + i h$$\n",
    "$$y_{j} = a + j h$$\n",
    "For time,\n",
    "$$t_{n} = n \\Delta t$$\n",
    "Where, $\\Delta t$ is the interval of time.\n",
    "\n",
    "Let $U_{i,j}^{n}$ approximate the solution so that\n",
    "$$U_{i,j}^{n} \\approx u(x_{i},y_{j},t_{n})$$\n",
    "For the time discretization\n",
    "$$\\frac{\\partial}{\\partial t} u(x_i,t) \\bigg|_{t=t_{n+\\frac{1}{2}}} \\Rightarrow \\frac{U_{i}^{n+1} - U_{i}^{n}}{\\Delta t}$$\n",
    "For the space discretization we use the central difference scheme\n",
    "$$\\frac{\\partial^{2}}{\\partial x^{2}} u(x,y,t_{n+1/2}) \\bigg|_{x=x_{i}} \\Rightarrow \\frac{U_{i-1,j}^{n+1/2} - 2 U_{i,j}^{n+1/2} + U_{i+1,j}^{n+1/2}}{h^{2}}$$\n",
    "$$\\frac{\\partial^{2}}{\\partial y^{2}} u(x,y,t_{n+1/2}) \\bigg|_{y=y_{j}} \\Rightarrow \\frac{U_{i,j-1}^{n+1/2} - 2 U_{i,j}^{n+1/2} + U_{i,j+1}^{n+1/2}}{h^{2}}$$\n",
    "$$\\nabla^{2} u \\big|_{(x,y)= (x_i,y_j)} \\Rightarrow \\frac{U_{i-1,j}^{n+1/2} + U_{i+1,j}^{n+1/2} + U_{i,j-1}^{n+1/2} + U_{i,j+1}^{n+1/2} - 4 U_{i,j}^{n+1/2}}{h^{2}}$$\n",
    "We approximate,\n",
    "$$U_{i,j}^{n+1/2} = \\frac{U_{i,j}^{n+1} + U_{i,j}^{n}}{2}$$\n",
    "Thus we get,\n",
    "$$\\frac{U_{i}^{n+1} - U_{i}^{n}}{\\Delta t} = \\frac{U_{i-1,j}^{n+1/2} + U_{i+1,j}^{n+1/2} + U_{i,j-1}^{n+1/2} + U_{i,j+1}^{n+1/2} - 4 U_{i,j}^{n+1/2}}{h^{2}} + f_{i,j}^{n}$$\n",
    "Substituting the approximation we get,\n",
    "$$\\frac{U_{i}^{n+1} - U_{i}^{n}}{\\Delta t} = \\frac{1}{2} \\frac{U_{i-1,j}^{n+1} + U_{i+1,j}^{n+1} + U_{i,j-1}^{n+1} + U_{i,j+1}^{n+1} - 4 U_{i,j}^{n+1}}{h^{2}} + \\frac{1}{2} \\frac{U_{i-1,j}^{n} + U_{i+1,j}^{n} + U_{i,j-1}^{n} + U_{i,j+1}^{n} - 4 U_{i,j}^{n}}{h^{2}} + f_{i,j}^{n}$$\n",
    "Define,\n",
    "$$\\lambda = \\frac{\\Delta t}{h^{2}}$$\n",
    "Rearranging we get,\n",
    "$$U_{i,j}^{n+1} - \\frac{\\lambda}{2} \\left( U_{i \\pm 1,j}^{n+1} - 4 U_{i,j}^{n+1} + U_{i,j \\pm 1}^{n+1} \\right) = U_{i,j}^{n} + \\frac{\\lambda}{2} \\left( U_{i \\pm 1,j}^{n} - 4 U_{i,j}^{n} + U_{i,j \\pm 1}^{n} \\right) + \\lambda h^2 f_{i,j}^{n}$$\n",
    "Where,\n",
    "$$i,j = 1,2,\\ldots,N-2 \\qquad n = 0,1,\\ldots$$"
   ]
  },
  {
   "cell_type": "markdown",
   "metadata": {},
   "source": [
    "### Implementation\n",
    "[Implementation](cn2d.ipynb)"
   ]
  },
  {
   "cell_type": "markdown",
   "metadata": {},
   "source": [
    "### Stability Analysis\n",
    "The solution is of the form,\n",
    "$$U_{,j}^{n} = \\beta^{n} e^{i l x_i + i m y_j}$$\n",
    "We write the scheme as\n",
    "$$- \\frac{\\lambda}{2} U_{i \\pm 1,j}^{n+1} + \\left(1+ 2 \\lambda\\right)U_{i,j}^{n+1} - \\frac{\\lambda}{2} U_{i,j \\pm 1}^{n+1} = \\frac{\\lambda}{2} U_{i \\pm 1,j}^{n} + \\left(1- 2\\lambda\\right)U_{i,j}^{n} + \\frac{\\lambda}{2} U_{i,j \\pm 1}^{n}$$\n",
    "Substituting the solution in the scheme we get,\n",
    "$$- \\frac{\\lambda}{2} \\beta^{n+1} e^{i l x_{i \\pm 1} + i m y_{j}} + \\left(1+2\\lambda\\right)\\beta^{n+1} e^{i l x_i + i m y_j} - \\frac{\\lambda}{2} \\beta^{n+1} e^{i l x_i + i m y_{j \\pm 1}} = \\frac{\\lambda}{2} \\beta^{n} e^{i l x_{i \\pm 1} + i m y_j} + \\left(1-2\\lambda\\right)\\beta^{n} e^{i l x_i + y_j} + \\frac{\\lambda}{2} \\beta^{n} e^{i l x_i + i m y_{j \\pm 1}}$$\n",
    "$$\\beta \\left[ 1 + \\lambda \\left( 1 - \\frac{e^{- i l h} + e^{i l h}}{2} + 1 - \\frac{e^{- i m h} + e^{i m h}}{2}\\right) \\right] = 1 - \\lambda \\left( 1 - \\frac{e^{- i l h} + e^{i l h}}{2} + 1 - \\frac{e^{- i m h} + e^{i m h}}{2}\\right)$$\n",
    "$$\\beta \\left[ 1 + 2 \\lambda \\sin^{2} (l h/2) + 2 \\lambda \\sin^{2} (m h/2)\\right] = 1 - 2 \\lambda \\sin^{2} (l h/2) - 2 \\lambda \\sin^{2} (m h/2)$$\n",
    "$$\\beta = \\frac{1 - 2 \\lambda \\sin^{2} (l h/2) - 2 \\lambda \\sin^{2} (m h/2)}{1 + 2 \\lambda \\sin^{2} (l h/2) + 2 \\lambda \\sin^{2} (m h/2)} < 1$$\n",
    "Hence, the solution is unconditionally stable, but is second degree accurate in time"
   ]
  }
 ],
 "metadata": {
  "kernelspec": {
   "display_name": "Python 3",
   "language": "python",
   "name": "python3"
  },
  "language_info": {
   "codemirror_mode": {
    "name": "ipython",
    "version": 3
   },
   "file_extension": ".py",
   "mimetype": "text/x-python",
   "name": "python",
   "nbconvert_exporter": "python",
   "pygments_lexer": "ipython3",
   "version": "3.6.5"
  }
 },
 "nbformat": 4,
 "nbformat_minor": 2
}
