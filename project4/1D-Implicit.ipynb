{
 "cells": [
  {
   "cell_type": "code",
   "execution_count": 51,
   "metadata": {},
   "outputs": [],
   "source": [
    "%matplotlib inline\n",
    "import numpy as np\n",
    "import matplotlib\n",
    "import matplotlib.pyplot as plt\n",
    "from matplotlib import animation\n",
    "matplotlib.rc('animation', html='html5')\n",
    "from ipywidgets import interact, interactive, widgets\n",
    "from IPython.display import display, clear_output"
   ]
  },
  {
   "cell_type": "code",
   "execution_count": 52,
   "metadata": {},
   "outputs": [],
   "source": [
    "# Global Constants\n",
    "d = (0,1)\n",
    "N = 30\n",
    "dx = (d[1] - d[0])/(N-1)\n",
    "x = np.linspace(d[0],d[1],N)\n",
    "K = np.zeros((N,N))"
   ]
  },
  {
   "cell_type": "code",
   "execution_count": 53,
   "metadata": {},
   "outputs": [],
   "source": [
    "def matrixvectorMul(lamb,U):\n",
    "    \"\"\"\n",
    "    This method returns the value (I-lambda*K)U given lambda and U\n",
    "    \"\"\"\n",
    "    np.fill_diagonal(K,(1+2*lamb))\n",
    "    np.fill_diagonal(K[1:],(-1*lamb))\n",
    "    np.fill_diagonal(K[:,1:],(-1*lamb))\n",
    "    return np.matmul(K,U)"
   ]
  },
  {
   "cell_type": "code",
   "execution_count": 55,
   "metadata": {},
   "outputs": [],
   "source": [
    "def matrixvectorSolve(f,lamb,U_prev):\n",
    "    \"\"\"\n",
    "    This method uses the conjugate gradient method to solve the vector form of the\n",
    "    implicit scheme equation\n",
    "    (I-\\lambda K)U^{n+1} = u_{n} + \\lambda \\Delta x^{2} f^{n+1} \n",
    "    \"\"\"\n",
    "    TOL   = 1.0e-6\n",
    "    itmax = 100\n",
    "    U_next = np.zeros(N)\n",
    "    p = np.zeros(N)\n",
    "    res = np.array(U_prev + lamb*dx*dx*f)\n",
    "    print(np.linalg.norm(res))\n",
    "        \n",
    "    fnorm = np.linalg.norm(U_prev + lamb*dx*dx*f)\n",
    "    res_old, res_new = 0.0, 0.0\n",
    "    for it in range(itmax):\n",
    "        res_new = np.linalg.norm(res)\n",
    "        print(res_new)\n",
    "        if res_new < TOL * fnorm:\n",
    "            break\n",
    "        if it==0:\n",
    "            beta = 0.0\n",
    "        else:\n",
    "            beta = res_new**2 / res_old**2\n",
    "        p = res + beta * p\n",
    "        ap = matrixvectorMul(lamb,p)\n",
    "        alpha = res_new**2 / p.dot(ap)\n",
    "        U_next += alpha * p\n",
    "        res -= alpha * ap\n",
    "        res_old = res_new\n",
    "    return U_next"
   ]
  },
  {
   "cell_type": "code",
   "execution_count": null,
   "metadata": {},
   "outputs": [],
   "source": []
  }
 ],
 "metadata": {
  "kernelspec": {
   "display_name": "Python 3",
   "language": "python",
   "name": "python3"
  },
  "language_info": {
   "codemirror_mode": {
    "name": "ipython",
    "version": 3
   },
   "file_extension": ".py",
   "mimetype": "text/x-python",
   "name": "python",
   "nbconvert_exporter": "python",
   "pygments_lexer": "ipython3",
   "version": "3.6.5"
  }
 },
 "nbformat": 4,
 "nbformat_minor": 2
}
