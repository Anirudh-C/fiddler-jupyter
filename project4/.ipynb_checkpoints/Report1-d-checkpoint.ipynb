{
 "cells": [
  {
   "cell_type": "markdown",
   "metadata": {},
   "source": [
    "# 1-D Heat Equation"
   ]
  },
  {
   "cell_type": "markdown",
   "metadata": {},
   "source": [
    "## Description"
   ]
  },
  {
   "cell_type": "markdown",
   "metadata": {},
   "source": [
    "Consider the equation\n",
    "$$ \\frac{\\partial u}{\\partial t} = \\frac{\\partial^{2} u}{\\partial x^{2}} + f$$\n",
    "Defined on an interval $[a,b]$ for a function $u(x,t)$  \n",
    "With the initial and boundary conditions given as\n",
    "$$u(x,0) = g(x)$$\n",
    "$$u(a,t) = \\alpha(t)$$\n",
    "$$u(b,t) = \\beta(t)$$\n",
    "To solve this equation we need to discretize both time and space.\n",
    "\n",
    "Define\n",
    "$$\\Delta x = \\frac{b-a}{N-1}$$\n",
    "where $N$ is the number of grid points, and hence,\n",
    "$$x_{i} = a + i \\Delta x$$\n",
    "For time,\n",
    "$$t_{n} = n \\Delta t$$\n",
    "Where, $\\Delta t$ is the interval of time.\n",
    "\n",
    "Let $U_{i}^{n}$ approximate the solution so that\n",
    "$$U_{i}^{n} \\approx u(x_{i},t_{n})$$\n",
    "     \n",
    "For the space discretization we use the central difference scheme\n",
    "$$\\frac{\\partial^{2}}{\\partial x^{2}} u(x, t_{n}) \\bigg|_{x=x_{i}} \\Rightarrow \\frac{U_{i-1}^{n} - 2 U_{i}^{n} + U_{i+1}^{n}}{\\Delta x^{2}}$$\n",
    "- Explicit Scheme\n",
    "\n",
    "    With explicit timestepping the time derivative is approximated as\n",
    "    $$\\frac{\\partial}{\\partial t} u(x_{i}, t) \\bigg|_{t=t_{n}} \\Rightarrow \\frac{U_{i}^{n+1} - U_{i}^{n}}{\\Delta t}$$\n",
    "    Taking this in with the central difference for space we get\n",
    "    $$\\frac{U_{i}^{n+1} - U_{i}^{n}}{\\Delta t} = \\frac{U_{i-1}^{n} - 2 U_{i}^{n} + U_{i+1}^{n}}{\\Delta x^{2}} + f_{i}^{n}$$\n",
    "    $$U_{i}^{n+1} = U_{i}^{n} + \\frac{\\Delta t}{\\Delta x^{2}} \\left( U_{i-1}^{n} - 2 U_{i}^{n} + U_{i+1}^{n} \\right) + \\Delta t f_{i}^{n}$$\n",
    "    We define,\n",
    "    $$\\lambda = \\frac{\\Delta t}{\\Delta x^{2}}$$\n",
    "    Thus,\n",
    "    $$\\Delta t = \\lambda \\Delta x^{2}$$\n",
    "    $$U_{i}^{n+1} = U_{i}^{n} + \\lambda \\left( U_{i-1}^{n} - 2 U_{i}^{n} + U_{i+1}^{n} \\right) + \\lambda \\Delta x^{2} f_{i}^{n} $$\n",
    "    Where \n",
    "    $$i = 1,\\ldots, N-2 ,\\qquad n = 0,1,\\ldots$$\n",
    "    In vector form this becomes,\n",
    "    $$U^{n+1} = \\left( I + \\lambda K \\right) U^{n} + \\lambda \\Delta x^{2} f^{n} $$\n",
    "    where,\n",
    "    $$K= \\begin{pmatrix} -2&1\\\\ 1&-2&1\\\\ &\\ddots&\\ddots&\\ddots \\end{pmatrix} ,\\qquad U^n= \\begin{pmatrix} U^n_1\\\\ \\vdots \\\\ U^n_{N-2} \\end{pmatrix}$$\n",
    "    Thus we can see that the dominant computation here is a matrix multiplication\n",
    "    $$U^{n+1} \\leftarrow AU^{n} + \\lambda \\Delta x^{2} f^{n}$$\n",
    "    Where\n",
    "    $$A = I + \\lambda K$$\n",
    "\n",
    "- Implicit Scheme\n",
    "\n",
    "    With implicit timestepping the time derivative is approximated as\n",
    "    $$\\frac{\\partial}{\\partial t} u(x_{i}, t) \\bigg|_{t=t_{n}} \\Rightarrow \\frac{U_{i}^{n} - U_{i}^{n-1}}{\\Delta t}$$\n",
    "    Thus,\n",
    "    $$\\frac{\\partial}{\\partial t} u(x_{i}, t) \\bigg|_{t=t_{n+1}} \\Rightarrow \\frac{U_{i}^{n+1} - U_{i}^{n}}{\\Delta t}$$\n",
    "    Taking this in with the central difference for space evaluated at $t_{n+1}$ we get\n",
    "    $$\\frac{U_{i}^{n+1} - U_{i}^{n}}{\\Delta t} = \\frac{U_{i-1}^{n+1} - 2 U_{i}^{n+1} + U_{i+1}^{n+1}}{\\Delta x^{2}} + f_{i}^{n+1}$$\n",
    "    $$U_{i}^{n+1} - \\lambda \\left( U_{i-1}^{n+1} - 2 U_{i}^{n+1} + U_{i}^{n+1} \\right) = U_{i}^{n} + \\lambda \\Delta x^{2} f_{i}^{n+1} $$\n",
    "    As a vector form we get,\n",
    "    $$\\left( I - \\lambda K \\right) U^{n+1} = U^{n} + \\lambda \\Delta x^{2} f^{n+1}$$\n",
    "    Here the dominant computation is solving a linear system\n",
    "    $$U^{n+1} \\leftarrow A^{-1} \\left( U^{n} + \\lambda \\Delta x^{2} f^{n+1} \\right)$$\n",
    "    $$A = I - \\lambda K$$"
   ]
  },
  {
   "cell_type": "markdown",
   "metadata": {},
   "source": [
    "## Solution"
   ]
  },
  {
   "cell_type": "markdown",
   "metadata": {},
   "source": [
    "We know that as $t \\rightarrow \\infty$, the time derivative goes to $0$ and so the equation is asymptotically transforms into,\n",
    "$$-u_{xx} = f$$\n",
    "Let \n",
    "$$u = v + u_{s}$$\n",
    "where, $u_{s}$ is a function that satisfies,\n",
    "$$-\\frac{\\partial^{2}}{\\partial x^{2}} u_s = f \\big|_{t=const}$$\n",
    "And $v$ is a function such that,\n",
    "$$v_t = v_{xx}$$\n",
    "With initial and boundary conditions\n",
    "$$v(x,0) = g(x)$$\n",
    "$$v(a,t) = \\alpha(t)$$\n",
    "$$v(b,t) = \\beta(t)$$\n",
    "Thus $v$ is a function that describes a homogeneous heat equation which can be solved by separating the variables\n",
    "\n",
    "Since, $v$ describes a 1-D Heat equation, it tends to $0$ as $t \\rightarrow \\infty$"
   ]
  },
  {
   "cell_type": "markdown",
   "metadata": {},
   "source": [
    "## Implementation\n",
    "$$g=0$$\n",
    "$$\\alpha = 0$$\n",
    "$$\\beta = 0$$\n",
    "$$f = f(x)$$\n",
    "[Test Cases](Test1-d.ipynb)"
   ]
  },
  {
   "cell_type": "markdown",
   "metadata": {},
   "source": [
    "## Comparison"
   ]
  },
  {
   "cell_type": "markdown",
   "metadata": {},
   "source": [
    "The explicit method has a bound on the value of $\\Delta t$ because of the bound on $\\lambda$\n",
    "\n",
    "But the implicit method does not have a bound on $\\Delta t$\n",
    "\n",
    "Consider the solution to the equation,\n",
    "$$U_{i}^{n} = \\beta^{n} e^{i l x_{i}}$$\n",
    "Now write the explicit scheme\n",
    "$$U_{i}^{n+1} = U_{i}^{n} + \\lambda \\left( U_{i-1}^{n} - 2 U_{i}^{n} + U_{i+1}^{n} \\right)$$\n",
    "Substituting the discretized value we get\n",
    "$$\\beta^{n+1} e^{i l x_{i}} = \\beta^{n} e^{i l x_{i}} + \\lambda \\left( \\beta^{n} e^{i l x_{i-1}} - 2 \\beta^{n} e^{i l x_{i}} + \\beta^{n} e^{i l x_{i+1}}\\right)$$\n",
    "$$\\beta^{n+1} e^{i l x_{i}} = \\beta^{n} e^{i l x_{i}} \\left[ 1 + \\lambda \\left( e^{- i l \\Delta x} - 2 + e^{i l \\Delta x}\\right) \\right]$$\n",
    "$$\\beta = 1 + 2 \\lambda \\left[ \\frac{\\left(e^{- i l \\Delta x} + e^{i l \\Delta x}\\right)}{2} - 1 \\right]$$\n",
    "$$\\beta = 1 + 2 \\lambda \\left( cos(l \\Delta x) - 1 \\right)$$\n",
    "As $t \\rightarrow \\infty$, that is, $n \\rightarrow \\infty$ we should have that $U_{i}^{n} \\rightarrow e^{i l x_i}$\n",
    "\n",
    "Thus $\\lvert \\beta \\rvert < 1$\n",
    "- $\\beta < 1$ : This is true for any $l$ and any value of $\\lambda$\n",
    "- $\\beta > -1$ : This is true for all $l$ and only if $\\lambda < 1/2$\\\n",
    "\n",
    "Thus for the explicit method $\\Delta t$ is bounded.\n",
    "\n",
    "For the implicit method we get\n",
    "$$\\beta = \\frac{1}{1 + 2 \\lambda \\left( 1 - cos(l \\Delta x) \\right)}$$\n",
    "Thus $\\lvert \\beta \\rvert < 1$ always.\n",
    "\n",
    "Hence there is no bound on $\\Delta t$ in the implicit method"
   ]
  }
 ],
 "metadata": {
  "kernelspec": {
   "display_name": "Python 3",
   "language": "python",
   "name": "python3"
  },
  "language_info": {
   "codemirror_mode": {
    "name": "ipython",
    "version": 3
   },
   "file_extension": ".py",
   "mimetype": "text/x-python",
   "name": "python",
   "nbconvert_exporter": "python",
   "pygments_lexer": "ipython3",
   "version": "3.6.5"
  }
 },
 "nbformat": 4,
 "nbformat_minor": 2
}
